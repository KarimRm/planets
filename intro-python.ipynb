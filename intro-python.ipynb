{
  "cells": [
    {
      "cell_type": "markdown",
      "metadata": {
        "id": "BHo-HKvmlBkH"
      },
      "source": [
        "<a href=\"https://colab.research.google.com/github/mcd-unison/material-programacion/blob/main/intro-python.ipynb\" target=\"_parent\"><img src=\"https://colab.research.google.com/assets/colab-badge.svg\" alt=\"Open In Colab\"/></a>"
      ]
    },
    {
      "cell_type": "markdown",
      "metadata": {
        "id": "JVaGnsh-lBkJ"
      },
      "source": [
        "<center>\n",
        "<p><img src=\"https://mcd.unison.mx/wp-content/themes/awaken/img/logo_mcd.png\" width=\"100\">\n",
        "</p>\n",
        "\n",
        "\n",
        "\n",
        "# Curso Propedéutico en *Programación*\n",
        "\n",
        "## Introducción a `python` resolviendo preguntas\n",
        "\n",
        "\n",
        "**Julio Waissman Vilanova**\n",
        "\n"
      ]
    },
    {
      "cell_type": "markdown",
      "metadata": {
        "id": "8w2RZqyolBkJ"
      },
      "source": [
        "### Tipos\n",
        "\n",
        "¿Cuales son los tipos de datos básicos? Revisa los tipos siguientes:\n",
        "\n",
        "1. Tipos numéricos `int`, `float`, `complex`\n",
        "2. Cadenas de caracteres\n",
        "3. Tuplas\n",
        "4. Listas\n",
        "5. Diccionarios\n",
        "6. Conjuntos\n",
        "\n",
        "Da ejemplo de sobrecarga de operadores (en particular `+` y `*`)\n",
        "\n"
      ]
    },
    {
      "cell_type": "code",
      "execution_count": 28,
      "metadata": {
        "colab": {
          "base_uri": "https://localhost:8080/"
        },
        "id": "pYyGpdMflBkJ",
        "outputId": "3eb7f0c0-6d61-43fc-8021-3e4739bbc148"
      },
      "outputs": [
        {
          "output_type": "stream",
          "name": "stdout",
          "text": [
            "wowowowWOWOWO\n",
            "9.0\n"
          ]
        },
        {
          "output_type": "execute_result",
          "data": {
            "text/plain": [
              "9.0"
            ]
          },
          "metadata": {},
          "execution_count": 28
        }
      ],
      "source": [
        "a=\"wowowow\"\n",
        "aa = \"WOWOWO\"\n",
        "b=[2,9.5,3,[4,\"objeto\"], \"objeto2\" , 78]\n",
        "c = 3/4\n",
        "d= (\"jojo\", 3.6, 1)\n",
        "e = 12\n",
        "\n",
        "print(a+aa)\n",
        "\n",
        "a.__add__(aa)\n",
        "\n",
        "print(c*e)\n",
        "\n",
        "c.__mul__(e)"
      ]
    },
    {
      "cell_type": "markdown",
      "metadata": {
        "id": "pT2K0muTlBkK"
      },
      "source": [
        "¿Que significa que unos tipos sean *mutables* y otros *inmutables*?\n",
        "\n",
        "Realiza un pequeño programa donde quede claro lo que significa que un tipo de datos sea mutable, e ilustra el uso del método `copy.deepcopy()`."
      ]
    },
    {
      "cell_type": "code",
      "execution_count": 45,
      "metadata": {
        "colab": {
          "base_uri": "https://localhost:8080/"
        },
        "id": "vkdTB0qYlBkK",
        "outputId": "0f9a041f-15a1-46f3-980a-0a09f87e5616"
      },
      "outputs": [
        {
          "output_type": "stream",
          "name": "stdout",
          "text": [
            "['manzana', 'mango', 'pera', 'sandia']\n",
            "['manzana', 'mango', 'pera', 'sandia', 'piña']\n",
            "['manzana', 'mango', ['papaya', 'platano'], 'pera', 'sandia', 'piña']\n"
          ]
        },
        {
          "output_type": "execute_result",
          "data": {
            "text/plain": [
              "['manzana', 'mango', ['papaya', 'platano'], 'pera', 'sandia', 'piña']"
            ]
          },
          "metadata": {},
          "execution_count": 45
        }
      ],
      "source": [
        "import copy\n",
        "l = [\"manzana\", \"mango\", \"pera\", \"sandia\"]\n",
        "print(l)\n",
        "l.append(\"piña\")\n",
        "print(l)\n",
        "l.insert(2,[\"papaya\", \"platano\"])\n",
        "print(l)\n",
        "\n",
        "k = copy.deepcopy(l)\n",
        "k"
      ]
    },
    {
      "cell_type": "markdown",
      "metadata": {
        "id": "CGbFoe8JlBkK"
      },
      "source": [
        "### *Comprehension* de listas, conjuntos y diccionarios\n",
        "\n",
        "Escribe, en una sola linea, una expresión que genere una lista con todos los números enteros que se encuentran entre $1$ y $n$\n",
        "que sean divisibles por $3$ y $7$ y que el dígito menos significativo del número sea $6$."
      ]
    },
    {
      "cell_type": "code",
      "execution_count": 48,
      "metadata": {
        "colab": {
          "base_uri": "https://localhost:8080/"
        },
        "id": "K2AkEyQslBkK",
        "outputId": "36ae7da6-e705-45d1-8cf6-3cf0a0974d68"
      },
      "outputs": [
        {
          "output_type": "stream",
          "name": "stdout",
          "text": [
            "[126, 336, 546, 756, 966, 1176, 1386, 1596, 1806, 2016, 2226, 2436, 2646, 2856, 3066, 3276, 3486, 3696, 3906, 4116, 4326, 4536, 4746, 4956, 5166, 5376, 5586, 5796, 6006, 6216, 6426, 6636, 6846, 7056, 7266, 7476, 7686, 7896, 8106, 8316, 8526, 8736, 8946, 9156, 9366, 9576, 9786, 9996]\n"
          ]
        }
      ],
      "source": [
        "n = 10_000\n",
        "\n",
        "# Escribe aqui el *one linner*\n",
        "\n",
        "f = [x for x in range(1, n + 1) if x % 3 == 0 and x % 7 == 0 and x % 10 == 6]\n",
        "print(f)"
      ]
    },
    {
      "cell_type": "markdown",
      "metadata": {
        "id": "-AGFU35glBkL"
      },
      "source": [
        "### Funciones\n",
        "\n",
        "Escribe una función que:\n",
        "\n",
        "1. reciba una lista de elementos (letras, números, lo que sea),\n",
        "2. cuente la ocurrencia de cada elemento en la lista,\n",
        "3. devuelva las ocurrencias en forma de diccionario,\n",
        "4. si imprime es True, imprima un histograma de ocurrencias, por ejemplo:\n",
        "\n",
        "```python\n",
        "\n",
        "lista = [1,'a',1, 13, 'hola', 'a', 1, 1, 'a', 1]\n",
        "\n",
        "d = funcion_ejemplo(lista, imprime = True)\n",
        "\n",
        "1    \t\t***** \t(5 -> 50%)\n",
        "'a'  \t\t***   \t(3 -> 30%)\n",
        "13\t\t*\t(1 -> 10%)\n",
        "'hola'\t\t*\t(1 -> 10%)\n",
        "\n",
        "```"
      ]
    },
    {
      "cell_type": "code",
      "execution_count": 66,
      "metadata": {
        "id": "tQ_QxE3WlBkL"
      },
      "outputs": [],
      "source": [
        "# Escribe la función aquí\n",
        "\n",
        "def function(lista, imprime = False):\n",
        "  p = { x: lista.count(x) for x in set(lista) }\n",
        "  if imprime:\n",
        "    for(key, val) in p.items():\n",
        "      print(f\"{key} \\t {val * '*'} \\t ({val} --> ({val / len(lista):.1%}))\")\n",
        "\n",
        "  return p"
      ]
    },
    {
      "cell_type": "code",
      "execution_count": 68,
      "metadata": {
        "colab": {
          "base_uri": "https://localhost:8080/"
        },
        "id": "cAYFA7s8lBkL",
        "outputId": "25dd8da9-96a2-4866-f7a7-94404563832c"
      },
      "outputs": [
        {
          "output_type": "stream",
          "name": "stdout",
          "text": [
            "1 \t ****** \t (6 --> (54.5%))\n",
            "13 \t * \t (1 --> (9.1%))\n",
            "a \t ** \t (2 --> (18.2%))\n",
            "hola \t ** \t (2 --> (18.2%))\n",
            "{1: 6, 13: 1, 'a': 2, 'hola': 2}\n"
          ]
        }
      ],
      "source": [
        "# Realiza pruebas aquí\n",
        "lista = [1,'a',1, 13, 'hola', 'hola', 1, 1, 'a', 1, 1]\n",
        "d = function(lista, imprime = True)\n",
        "print(d)"
      ]
    },
    {
      "cell_type": "markdown",
      "metadata": {
        "id": "OSbw9qo1lBkL"
      },
      "source": [
        "Escribe una función que modifique un diccionario y regrese el diccionario modificado y una copia del original, donde cada entrada\n",
        "del diccionario sea una lista de valores. Ten en cuenta que si una entrada del diccionario es de tipo mutable, al modificarlo en la\n",
        "copia se modifica el original. Utiliza el modulo `copy` para evitar este problema. Ejemplo de la función:\n",
        "\n",
        "```python\n",
        "dic1 = {'Pepe':[12, 'enero', 1980], 'Carolina':[15,'mayo',1975],'Paco':[10,'nov',1970]}\n",
        "dic2 = fundicos(dic1, 'Pepe', 1, 'febrero')\n",
        "\n",
        "print(dic1)\n",
        "{'Pepe':[12, 'enero', 1980], 'Carolina':[15,'mayo',1975],'Paco':[10,'nov',1970]}\n",
        "\n",
        "print(dic2)\n",
        "{'Pepe':[12, 'febrero', 1980], 'Carolina':[15,'mayo',1975],'Paco':[10,'nov',1970]}\n",
        "```"
      ]
    },
    {
      "cell_type": "code",
      "execution_count": 155,
      "metadata": {
        "id": "k4fGubd2lBkM"
      },
      "outputs": [],
      "source": [
        "# Escribe la función fundicos aquí\n",
        "def fundicos(oldData, key, index, data):\n",
        "  perserveData = copy.deepcopy(oldData)\n",
        "  if data: perserveData[key][index] = data\n",
        "  return [oldData, perserveData]"
      ]
    },
    {
      "cell_type": "code",
      "execution_count": 157,
      "metadata": {
        "colab": {
          "base_uri": "https://localhost:8080/"
        },
        "id": "tSsIFOthlBkM",
        "outputId": "63cef332-7dbd-4e10-df58-f72453832581"
      },
      "outputs": [
        {
          "output_type": "stream",
          "name": "stdout",
          "text": [
            "{'Pepe': [12, 'enero', 1980], 'Carolina': [15, 'mayo', 1975], 'Paco': [10, 'nov', 1970]}\n",
            "{'Pepe': [12, 'enero', 1980], 'Carolina': [15, 'mayo', 1975], 'Paco': [10, 'nov', 1970]}\n",
            "{'Pepe': [12, 'enero', 1980], 'Carolina': [15, 'mayo', '1888'], 'Paco': [10, 'nov', 1970]}\n"
          ]
        }
      ],
      "source": [
        "# Realiza pruebas de fundicos aquí\n",
        "\n",
        "dic1 = {'Pepe':[12, 'enero', 1980], 'Carolina':[15,'mayo',1975],'Paco':[10,'nov',1970]}\n",
        "# dic2 = fundicos(dic1, 'Pepe', 1, 'febrero')\n",
        "dic2 = fundicos(dic1, 'Carolina', 2, '1888')\n",
        "\n",
        "print(dic1)\n",
        "print(dic2[0])\n",
        "print(dic2[1])"
      ]
    },
    {
      "cell_type": "markdown",
      "metadata": {
        "id": "XbZvO_8elBkM"
      },
      "source": [
        "### Generadores\n",
        "\n",
        "Escribe un generador que reciba una lista y genere todas las permutaciones que se puedan hacer con los elementos de la lista"
      ]
    },
    {
      "cell_type": "code",
      "execution_count": 102,
      "metadata": {
        "id": "vGl0bjadlBkM"
      },
      "outputs": [],
      "source": [
        "# Escribe aqui fun1\n",
        "\n",
        "def permutaciones(lista):\n",
        "    \"\"\"\n",
        "    Permutaciones de los elementos de una lista.\n",
        "\n",
        "    Devuelve un generador con todas las permutaciones posibles de los elementos de la lista de entrada\n",
        "    \"\"\"\n",
        "    #TODO: Implementar la función\n",
        "\n",
        "    if len(lista) == 0:\n",
        "      yield lista\n",
        "    else:\n",
        "      for(i,elemento) in enumerate(lista):\n",
        "        lista_procesada = lista[:i] + lista[i+1:]\n",
        "        for perm in permutaciones(lista_procesada):\n",
        "          yield [elemento] + perm"
      ]
    },
    {
      "cell_type": "code",
      "execution_count": 103,
      "metadata": {
        "colab": {
          "base_uri": "https://localhost:8080/"
        },
        "id": "DH-FBRfnlBkM",
        "outputId": "d32378e1-a691-4d9a-aa41-8a68e062fe3f"
      },
      "outputs": [
        {
          "output_type": "stream",
          "name": "stdout",
          "text": [
            "['a', 'b', 'c', 'd']\n",
            "['a', 'b', 'd', 'c']\n",
            "['a', 'c', 'b', 'd']\n",
            "['a', 'c', 'd', 'b']\n",
            "['a', 'd', 'b', 'c']\n",
            "['a', 'd', 'c', 'b']\n",
            "['b', 'a', 'c', 'd']\n",
            "['b', 'a', 'd', 'c']\n",
            "['b', 'c', 'a', 'd']\n",
            "['b', 'c', 'd', 'a']\n",
            "['b', 'd', 'a', 'c']\n",
            "['b', 'd', 'c', 'a']\n",
            "['c', 'a', 'b', 'd']\n",
            "['c', 'a', 'd', 'b']\n",
            "['c', 'b', 'a', 'd']\n",
            "['c', 'b', 'd', 'a']\n",
            "['c', 'd', 'a', 'b']\n",
            "['c', 'd', 'b', 'a']\n",
            "['d', 'a', 'b', 'c']\n",
            "['d', 'a', 'c', 'b']\n",
            "['d', 'b', 'a', 'c']\n",
            "['d', 'b', 'c', 'a']\n",
            "['d', 'c', 'a', 'b']\n",
            "['d', 'c', 'b', 'a']\n"
          ]
        }
      ],
      "source": [
        "# Realiza pruebas de fun2 aquí\n",
        "for p in permutaciones(['a', 'b', 'c', 'd']):\n",
        "    print(p)"
      ]
    },
    {
      "cell_type": "markdown",
      "metadata": {
        "id": "7WsBuHOQlBkM"
      },
      "source": [
        "Ahora escribe una funcipn que reciba 4 digitos del 0 al 9, y devuelva una lista con todas las horas váidas que se puedan hacer con estos dígitos en forma de lista de strings con la forma `\"HH:MM\"`."
      ]
    },
    {
      "cell_type": "code",
      "execution_count": 45,
      "metadata": {
        "id": "pzvZlxDBlBkM"
      },
      "outputs": [],
      "source": [
        "def horas_validas(lista):\n",
        "    \"\"\"\n",
        "    Docstring a comentar correctamente\n",
        "    \"\"\"\n",
        "    validResults = []\n",
        "    for hora_decena in range(3):\n",
        "      for hora_unidad in range(10):\n",
        "        for minuto_decena in range(6):\n",
        "          for minuto_unidad in range(10):\n",
        "          # Formar la hora en formato string\n",
        "            hora_str = f\"{hora_decena}{hora_unidad}:{minuto_decena}{minuto_unidad}\"\n",
        "\n",
        "          # Verificar si la hora es válida (horas entre 00 y 23, minutos entre 00 y 59)\n",
        "          if (hora_decena * 10 + hora_unidad <= 23) and (minuto_decena + minuto_unidad <= 59):\n",
        "            validResults.append(hora_str)\n",
        "    return validResults\n"
      ]
    },
    {
      "cell_type": "markdown",
      "metadata": {
        "id": "-U00nD_8lBkM"
      },
      "source": [
        "Validando:"
      ]
    },
    {
      "cell_type": "code",
      "execution_count": 46,
      "metadata": {
        "colab": {
          "base_uri": "https://localhost:8080/"
        },
        "id": "ywdYIbcalBkM",
        "outputId": "7e4bb094-cefc-42a9-cd42-ba3e9027b315"
      },
      "outputs": [
        {
          "output_type": "stream",
          "name": "stdout",
          "text": [
            "['00:09', '00:19', '00:29', '00:39', '00:49', '00:59', '01:09', '01:19', '01:29', '01:39', '01:49', '01:59', '02:09', '02:19', '02:29', '02:39', '02:49', '02:59', '03:09', '03:19', '03:29', '03:39', '03:49', '03:59', '04:09', '04:19', '04:29', '04:39', '04:49', '04:59', '05:09', '05:19', '05:29', '05:39', '05:49', '05:59', '06:09', '06:19', '06:29', '06:39', '06:49', '06:59', '07:09', '07:19', '07:29', '07:39', '07:49', '07:59', '08:09', '08:19', '08:29', '08:39', '08:49', '08:59', '09:09', '09:19', '09:29', '09:39', '09:49', '09:59', '10:09', '10:19', '10:29', '10:39', '10:49', '10:59', '11:09', '11:19', '11:29', '11:39', '11:49', '11:59', '12:09', '12:19', '12:29', '12:39', '12:49', '12:59', '13:09', '13:19', '13:29', '13:39', '13:49', '13:59', '14:09', '14:19', '14:29', '14:39', '14:49', '14:59', '15:09', '15:19', '15:29', '15:39', '15:49', '15:59', '16:09', '16:19', '16:29', '16:39', '16:49', '16:59', '17:09', '17:19', '17:29', '17:39', '17:49', '17:59', '18:09', '18:19', '18:29', '18:39', '18:49', '18:59', '19:09', '19:19', '19:29', '19:39', '19:49', '19:59', '20:09', '20:19', '20:29', '20:39', '20:49', '20:59', '21:09', '21:19', '21:29', '21:39', '21:49', '21:59', '22:09', '22:19', '22:29', '22:39', '22:49', '22:59', '23:09', '23:19', '23:29', '23:39', '23:49', '23:59']\n"
          ]
        }
      ],
      "source": [
        "print(horas_validas([1,2,3,4]))"
      ]
    },
    {
      "cell_type": "markdown",
      "metadata": {
        "id": "0ot3K8TVlBkM"
      },
      "source": [
        "Escribe una función, lo más compacta posible, que escoja entre los 3 patrones ascii a continuación, e imprima en pantalla\n",
        "el deseado, pero de dimensión $n$ ($n \\ge 4$), toma en cuanta que para algunos valores de $n$ habrá\n",
        "algún(os) patrones que no se puedan hacer.\n",
        "\n",
        "```\n",
        "          *             ++++           oooooooo\n",
        "          **            ++++           ooo  ooo\n",
        "          ***           ++++           oo    oo\n",
        "          ****          ++++           o      o\n",
        "          *****             ++++       o      o\n",
        "          ******            ++++       oo    oo\n",
        "          *******           ++++       ooo  ooo\n",
        "          ********          ++++       oooooooo\n",
        "\n",
        "```"
      ]
    },
    {
      "cell_type": "code",
      "execution_count": 7,
      "metadata": {
        "colab": {
          "base_uri": "https://localhost:8080/"
        },
        "id": "Dv7MrovLlBkN",
        "outputId": "ddd56031-57bc-459d-9d93-c19281a23ceb"
      },
      "outputs": [
        {
          "output_type": "stream",
          "name": "stdout",
          "text": [
            "####\n",
            "####\n",
            "####\n",
            "####\n",
            "#\n",
            "##\n",
            "###\n",
            "####\n",
            "#####\n",
            "######\n",
            "#######\n",
            "########\n",
            "#\n",
            "##\n",
            "###\n",
            "####\n",
            "#####\n",
            "######\n",
            "#######\n",
            "######\n",
            "#####\n",
            "####\n",
            "###\n",
            "##\n",
            "#\n"
          ]
        }
      ],
      "source": [
        "# Escribe aquí la función\n",
        "\n",
        "def patron_maker(patron, n):\n",
        "  if patron == \"cuadrado\":\n",
        "    for i in range(n):\n",
        "      print(\"#\" * n)\n",
        "  elif patron == \"triangulo\":\n",
        "    for i in range(1, n + 1):\n",
        "      print(\"#\" * i)\n",
        "  elif patron == \"rombo\":\n",
        "    mitad = n // 2\n",
        "    for i in range(1, mitad + 1):\n",
        "      print(\"#\" * i)\n",
        "    for i in range(mitad - 1, 0, -1):\n",
        "      print(\"#\" * i)\n",
        "  else:\n",
        "    print(\"Patrón no válido.\")\n",
        "\n",
        "patron_maker(\"cuadrado\", 4)\n",
        "patron_maker(\"triangulo\", 8)\n",
        "patron_maker(\"rombo\", 14)\n"
      ]
    },
    {
      "cell_type": "markdown",
      "metadata": {
        "id": "ILR-OiPClBkN"
      },
      "source": [
        "### Clases y objetos\n",
        "\n",
        "Diseña una clase Matriz con las siguientes características:\n",
        "\n",
        "1. Como inicialización de un objeto es necesario conocer $n$, $m$ y tipo. En caso de no proporcionar $m$ la matriz se asume cuadrada de $n \\times n$. En caso de no proporcionar $n$ la matriz tendrá una dimensión de $1 \\times 1$.\n",
        "2. De no especificarse todos los elementos se inicializan a 0, a menos que exista un tipo especial ( `unos` o `diag` por el momento).\n",
        "3. Implementa con sobrecarga la suma de matrices, la multiplicación de matrices y la multiplicación por un escalar.\n",
        "4. Implementa como métodos eliminar columna y eliminar fila.   \n",
        "5. Programa la representación visual de la matriz.\n",
        "6. Ten en cuenta tambien el manejo de errores.\n",
        "\n",
        "\n",
        "Ejemplo de uso:\n",
        "\n",
        "```\n",
        ">>> A = Matriz(n=3, m=4)\n",
        "\n",
        ">>> print(A)\n",
        "0 0 0 0\n",
        "0 0 0 0\n",
        "0 0 0 0\n",
        "\n",
        ">>> A = A.quitafila(2)\n",
        "\n",
        ">>> print(A)\n",
        "0 0 0 0\n",
        "0 0 0 0\n",
        "\n",
        ">>> B = Matriz(4,4,'diag')\n",
        "\n",
        ">>> print(B)\n",
        "1 0 0 0\n",
        "0 1 0 0\n",
        "0 0 1 0\n",
        "0 0 0 1\n",
        "\n",
        ">>> C = Matriz(4,1,'unos')\n",
        "\n",
        ">>> print(C)\n",
        "1\n",
        "1\n",
        "1\n",
        "1\n",
        "\n",
        ">>> D = 3 * B * C\n",
        "\n",
        ">>> print(D)\n",
        "3\n",
        "3\n",
        "3\n",
        "3\n",
        "\n",
        ">>> E = 3 * B + C\n",
        "error \"No seas menso, si no son de la misma dimensión las matrices no se pueden sumar\"\n",
        "```"
      ]
    },
    {
      "cell_type": "code",
      "execution_count": null,
      "metadata": {
        "id": "xozmGGQ5lBkN"
      },
      "outputs": [],
      "source": [
        "# Desarrolla aqui la clase\n"
      ]
    },
    {
      "cell_type": "code",
      "execution_count": null,
      "metadata": {
        "id": "YHIO2zMHlBkN"
      },
      "outputs": [],
      "source": [
        "# Realiza las pruebas a la clase aquí\n",
        "\n",
        "A = Matriz(n=3, m=4)\n",
        "print('A =', A)\n",
        "\n",
        "A = A.quitafila(2)\n",
        "print('A = ', A)\n",
        "\n",
        "B = Matriz(4,4,'diag')\n",
        "print('B = ', B)\n",
        "\n",
        "C = Matriz(4,1,'unos')\n",
        "print('C =', C)\n",
        "\n",
        "D = 3 * B * C\n",
        "print('D = ', D)\n",
        "\n",
        "E = 3 * B + C\n",
        "print('E = ', E)"
      ]
    }
  ],
  "metadata": {
    "kernelspec": {
      "display_name": "ing-caract",
      "language": "python",
      "name": "python3"
    },
    "language_info": {
      "codemirror_mode": {
        "name": "ipython",
        "version": 3
      },
      "file_extension": ".py",
      "mimetype": "text/x-python",
      "name": "python",
      "nbconvert_exporter": "python",
      "pygments_lexer": "ipython3",
      "version": "3.8.13"
    },
    "orig_nbformat": 4,
    "colab": {
      "provenance": []
    }
  },
  "nbformat": 4,
  "nbformat_minor": 0
}